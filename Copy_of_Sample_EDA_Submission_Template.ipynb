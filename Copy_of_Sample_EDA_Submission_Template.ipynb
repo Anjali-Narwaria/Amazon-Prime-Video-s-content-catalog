{
  "nbformat": 4,
  "nbformat_minor": 0,
  "metadata": {
    "colab": {
      "private_outputs": true,
      "provenance": [],
      "collapsed_sections": [
        "PIIx-8_IphqN",
        "t27r6nlMphqO",
        "r2jJGEOYphqO",
        "b0JNsNcRphqO",
        "eZrbJ2SmphqO",
        "rFu4xreNphqO",
        "ylSl6qgtp1ck",
        "ZWILFDl5p1ck",
        "M7G43BXep1ck",
        "Ag9LCva-p1cl",
        "E6MkPsBcp1cl",
        "2cELzS2fp1cl",
        "3MPXvC8up1cl",
        "YPEH6qLeZNRQ",
        "EXh0U9oCveiU",
        "22aHeOlLveiV",
        "8G2x9gOozGDZ",
        "gIfDvo9L0UH2"
      ],
      "include_colab_link": true
    },
    "kernelspec": {
      "name": "python3",
      "display_name": "Python 3"
    },
    "language_info": {
      "name": "python"
    }
  },
  "cells": [
    {
      "cell_type": "markdown",
      "metadata": {
        "id": "view-in-github",
        "colab_type": "text"
      },
      "source": [
        "<a href=\"https://colab.research.google.com/github/Anjali-Narwaria/Amazon-Prime-Video-s-content-catalog/blob/main/Copy_of_Sample_EDA_Submission_Template.ipynb\" target=\"_parent\"><img src=\"https://colab.research.google.com/assets/colab-badge.svg\" alt=\"Open In Colab\"/></a>"
      ]
    },
    {
      "cell_type": "code",
      "source": [],
      "metadata": {
        "id": "I1apcow5dxii"
      },
      "execution_count": null,
      "outputs": []
    },
    {
      "cell_type": "markdown",
      "source": [
        "# **Project Name**    - Amazon Prime Video Data Analysis\n",
        "\n"
      ],
      "metadata": {
        "id": "vncDsAP0Gaoa"
      }
    },
    {
      "cell_type": "markdown",
      "source": [
        "##### **Project Type**    - EDA\n",
        "##### **Contribution**    - Individual\n"
      ],
      "metadata": {
        "id": "beRrZCGUAJYm"
      }
    },
    {
      "cell_type": "markdown",
      "source": [
        "# **Project Summary -**"
      ],
      "metadata": {
        "id": "FJNUwmbgGyua"
      }
    },
    {
      "cell_type": "markdown",
      "source": [
        "This project focused on a comprehensive exploration of Amazon Prime Video’s content catalog using a wide variety of visualizations to extract key insights for strategic business decisions. The analysis covered several dimensions of the dataset, including content types, genres, release years, viewer ratings, popularity metrics, runtimes, age certifications, production countries, and notable cast involvement. Through this multidimensional approach, the aim was to understand content distribution, audience preferences, and how these factors relate to user engagement and platform growth.\n",
        "\n",
        "Content Type and Genre Distribution :\n",
        "The project began with foundational charts such as the Pie Chart of content types and a Horizontal Bar Chart of top genres, revealing the platform’s content mix and genre popularity. Drama, Comedy, and Action often emerged as dominant genres, shaping the core of viewer interest. Moving beyond counts, the Line Chart of titles by release year highlighted temporal trends, showing how the volume of releases evolved over time—crucial for understanding content freshness and industry cycles.\n",
        "\n",
        "Audience Ratings and Popularity :\n",
        "To assess content quality and appeal, a Histogram of IMDb scores was created to visualize rating distributions, supplemented by a Scatter Plot connecting IMDb score and TMDb popularity with show type distinctions. These visualizations revealed clusters of well-rated popular content and identified segments where rating and popularity diverge—key for content investment decisions. Runtime’s impact on ratings was examined using a Boxplot by runtime band alongside scatter plots with regression lines, uncovering relationships between content length and perceived quality.\n",
        "\n",
        "Demographic and Classification Perspectives :\n",
        "Investigations into age appropriateness were supported by the Age Certification Counts Bar Chart and a complex Boxplot Grid showing IMDb scores by age certification and genre. These enabled nuanced insights into how content is classified and received across different viewer age groups and genres, facilitating targeted content curation and regulatory compliance.\n",
        "\n",
        "Geographic and Production Insights :\n",
        "Exploration of production origins through Production Country frequency and detailed Grouped and Stacked Bar Plots comparing genres and production countries illuminated geographic concentrations and diversity of the content portfolio. Findings showed the US and select countries dominating certain genres, with opportunities identified for market expansion and content diversification. Similarly, actor prominence was analyzed with a grouped bar plot depicting top actors’ presence by genre, adding a talent dimension to content assessment.\n",
        "\n",
        "Advanced Statistical Correlations and Relationships :\n",
        "The project employed quantitative relationship analysis through a Correlation Heatmap and a Pair Plot visualizing interrelations among IMDb score, popularity, runtime, and release year. These tools helped identify subtle correlations and patterns, guiding feature selection for recommendation systems and content performance optimization.\n",
        "\n",
        "Business Insights and Strategic Recommendations :\n",
        "The broad spectrum of visual analyses provided a multi-angle understanding of the Amazon Prime Video catalog’s strengths and gaps. This informs a data-driven strategy encompassing:\n",
        "\n",
        "Optimized Content Strategy: Focus investments and acquisitions on genres, runtimes, and production countries demonstrating strong audience ratings and popularity trends.\n",
        "\n",
        "Targeted Marketing and Audience Segmentation: Utilize geographic and demographic insights to customize campaigns, enhancing engagement with specific viewer groups and regions.\n",
        "\n",
        "Portfolio Quality Assurance: Leverage insights from age certification and ratings distributions to maintain content standards and improve user satisfaction.\n",
        "\n",
        "Catalog Diversity and Localization: Address gaps in underrepresented genres and countries, fostering diverse content offerings and expanding global appeal.\n",
        "\n",
        "Continuous Monitoring: Adopt ongoing analysis workflows using heatmaps and pair plots to adapt quickly to evolving user preferences and market dynamics.\n",
        "\n",
        "By harnessing these data-backed findings, the client can make more informed, precise decisions that respond to viewer preferences more effectively. This promotes a more engaging, diverse, and high-quality streaming experience, positioning Amazon Prime Video for sustained success in the dynamic OTT landscape."
      ],
      "metadata": {
        "id": "F6v_1wHtG2nS"
      }
    },
    {
      "cell_type": "markdown",
      "source": [
        "# **GitHub Link -**"
      ],
      "metadata": {
        "id": "w6K7xa23Elo4"
      }
    },
    {
      "cell_type": "markdown",
      "source": [],
      "metadata": {
        "id": "h1o69JH3Eqqn"
      }
    },
    {
      "cell_type": "markdown",
      "source": [
        "# **Problem Statement**\n"
      ],
      "metadata": {
        "id": "yQaldy8SH6Dl"
      }
    },
    {
      "cell_type": "markdown",
      "source": [
        "This project is created to analyze Amazon Prime Video’s content catalog in the United States to identify key trends and insights. By examining data on show types, genres, release years, ratings, and contributions from actors and directors, we aim to answer questions such as whether movies are more common than TV shows, which genres are most popular, how content distribution has changed over time, and how user ratings compare. The findings will help stakeholders, marketers, and investors make informed decisions about content strategy and audience engagement."
      ],
      "metadata": {
        "id": "DpeJGUA3kjGy"
      }
    },
    {
      "cell_type": "markdown",
      "source": [
        "#### **Define Your Business Objective?**"
      ],
      "metadata": {
        "id": "PH-0ReGfmX4f"
      }
    },
    {
      "cell_type": "markdown",
      "source": [
        "The business objective of this project is to generate actionable insights from Amazon Prime Video’s US content catalog to guide strategic decision-making for stakeholders, marketers, and investors. By analyzing and visualizing trends in show types, genres, production regions, ratings, and creator participation, the project aims to support content selection, marketing strategies, and investment allocation with data-driven evidence.\n",
        "\n",
        "-> Specific Objectives\n",
        "\n",
        "- Identify content dominance to determine whether movies or TV shows represent the larger share of the Amazon Prime Video library.\n",
        "\n",
        "- Analyze genre popularity to reveal which genres are most prevalent and trending, helping content strategists focus on viewer preferences.\n",
        "\n",
        "- Track content growth and trends over time to examine the evolution of the platform’s catalog, including release years and production trends, to inform future acquisitions.\n",
        "\n",
        "- Assess ratings and popularity correlation to compare IMDb and TMDb scores to understand public perception and quality alignment.\n",
        "\n",
        "- Understand regional and talent diversity by analyzing the contributions of different countries, actors, and directors, supporting decisions about international content and talent partnerships.\n",
        "\n",
        "- Inform stakeholder decisions and provide clear, data-driven recommendations useful for content planning, marketing campaigns, and investment prioritization within the streaming sector.\n",
        "\n",
        "By fulfilling these objectives, the project will turn raw data into actionable knowledge, ensuring decisions are based on measurable trends and audience behaviors in the streaming industry.\n",
        "\n"
      ],
      "metadata": {
        "id": "PhDvGCAqmjP1"
      }
    },
    {
      "cell_type": "markdown",
      "source": [
        "# **General Guidelines** : -  "
      ],
      "metadata": {
        "id": "mDgbUHAGgjLW"
      }
    },
    {
      "cell_type": "markdown",
      "source": [
        "1.   Well-structured, formatted, and commented code is required.\n",
        "2.   Exception Handling, Production Grade Code & Deployment Ready Code will be a plus. Those students will be awarded some additional credits.\n",
        "     \n",
        "     The additional credits will have advantages over other students during Star Student selection.\n",
        "       \n",
        "             [ Note: - Deployment Ready Code is defined as, the whole .ipynb notebook should be executable in one go\n",
        "                       without a single error logged. ]\n",
        "\n",
        "3.   Each and every logic should have proper comments.\n",
        "4. You may add as many number of charts you want. Make Sure for each and every chart the following format should be answered.\n",
        "        \n",
        "\n",
        "```\n",
        "# Chart visualization code\n",
        "```\n",
        "            \n",
        "\n",
        "*   Why did you pick the specific chart?\n",
        "*   What is/are the insight(s) found from the chart?\n",
        "* Will the gained insights help creating a positive business impact?\n",
        "Are there any insights that lead to negative growth? Justify with specific reason.\n",
        "\n",
        "5. You have to create at least 20 logical & meaningful charts having important insights.\n",
        "\n",
        "\n",
        "[ Hints : - Do the Vizualization in  a structured way while following \"UBM\" Rule.\n",
        "\n",
        "U - Univariate Analysis,\n",
        "\n",
        "B - Bivariate Analysis (Numerical - Categorical, Numerical - Numerical, Categorical - Categorical)\n",
        "\n",
        "M - Multivariate Analysis\n",
        " ]\n",
        "\n",
        "\n",
        "\n"
      ],
      "metadata": {
        "id": "ZrxVaUj-hHfC"
      }
    },
    {
      "cell_type": "markdown",
      "source": [
        "# ***Let's Begin !***"
      ],
      "metadata": {
        "id": "O_i_v8NEhb9l"
      }
    },
    {
      "cell_type": "markdown",
      "source": [
        "## ***1. Know Your Data***"
      ],
      "metadata": {
        "id": "HhfV-JJviCcP"
      }
    },
    {
      "cell_type": "markdown",
      "source": [
        "### Import Libraries"
      ],
      "metadata": {
        "id": "Y3lxredqlCYt"
      }
    },
    {
      "cell_type": "code",
      "source": [
        "# Import Libraries\n",
        "import pandas as pd\n",
        "import numpy as np\n",
        "import matplotlib.pyplot as plt\n",
        "from collections import Counter\n",
        "import seaborn as sns\n",
        "\n",
        "# Enable inline plotting\n",
        "%matplotlib inline"
      ],
      "metadata": {
        "id": "M8Vqi-pPk-HR"
      },
      "execution_count": null,
      "outputs": []
    },
    {
      "cell_type": "markdown",
      "source": [
        "### Dataset Loading"
      ],
      "metadata": {
        "id": "3RnN4peoiCZX"
      }
    },
    {
      "cell_type": "code",
      "source": [
        "from google.colab import drive\n",
        "drive.mount('/content/drive')"
      ],
      "metadata": {
        "id": "Fk6-3oDDtBOF"
      },
      "execution_count": null,
      "outputs": []
    },
    {
      "cell_type": "code",
      "source": [
        "# Load the datasets\n",
        "titles = pd.read_csv(\"/content/drive/MyDrive/titles.csv\")\n",
        "credits = pd.read_csv(\"/content/drive/MyDrive/credits.csv\")\n",
        "\n",
        "# Quick inspection\n",
        "print(titles.shape)\n",
        "print(titles.columns)\n",
        "print(titles.head())\n",
        "\n",
        "print(credits.shape)\n",
        "print(credits.columns)\n",
        "print(credits.head())\n"
      ],
      "metadata": {
        "id": "4CkvbW_SlZ_R"
      },
      "execution_count": null,
      "outputs": []
    },
    {
      "cell_type": "markdown",
      "source": [
        "### Dataset First View"
      ],
      "metadata": {
        "id": "x71ZqKXriCWQ"
      }
    },
    {
      "cell_type": "code",
      "source": [
        "# Display first 5 rows of titles as a table\n",
        "display(titles.head())\n",
        "\n",
        "# Display first 5 rows of credits as a table\n",
        "display(credits.head())"
      ],
      "metadata": {
        "id": "LWNFOSvLl09H"
      },
      "execution_count": null,
      "outputs": []
    },
    {
      "cell_type": "markdown",
      "source": [
        "### Dataset Rows & Columns count"
      ],
      "metadata": {
        "id": "7hBIi_osiCS2"
      }
    },
    {
      "cell_type": "code",
      "source": [
        "# Dataset Rows & Columns count of titles\n",
        "print(\"Titles Dataset shape (rows, columns):\", titles.shape)\n",
        "print(\"Number of rows in titles:\", titles.shape[0])\n",
        "print(\"Number of columns in titles:\", titles.shape[1])\n",
        "\n",
        "# Dataset Rows & Columns count for credits\n",
        "print(\"Credits Dataset shape (rows, columns):\", credits.shape)\n",
        "print(\"Number of rows in credits:\", credits.shape[0])\n",
        "print(\"Number of columns in credits:\", credits.shape[1])\n"
      ],
      "metadata": {
        "id": "Kllu7SJgmLij"
      },
      "execution_count": null,
      "outputs": []
    },
    {
      "cell_type": "markdown",
      "source": [
        "### Dataset Information"
      ],
      "metadata": {
        "id": "JlHwYmJAmNHm"
      }
    },
    {
      "cell_type": "code",
      "source": [
        "# Dataset Info\n",
        "titles.info()\n",
        "credits.info()"
      ],
      "metadata": {
        "id": "e9hRXRi6meOf"
      },
      "execution_count": null,
      "outputs": []
    },
    {
      "cell_type": "markdown",
      "source": [
        "#### Duplicate Values"
      ],
      "metadata": {
        "id": "35m5QtbWiB9F"
      }
    },
    {
      "cell_type": "code",
      "source": [
        "# Dataset Duplicate Value Count\n",
        "print(\"Number of duplicate rows in titles:\", titles.duplicated().sum())\n",
        "print(\"Number of duplicate rows in credits:\", credits.duplicated().sum())"
      ],
      "metadata": {
        "id": "1sLdpKYkmox0"
      },
      "execution_count": null,
      "outputs": []
    },
    {
      "cell_type": "markdown",
      "source": [
        "#### Missing Values/Null Values"
      ],
      "metadata": {
        "id": "PoPl-ycgm1ru"
      }
    },
    {
      "cell_type": "code",
      "source": [
        "# Missing Values/Null Values Count\n",
        "print(\"Missing values in titles:\")\n",
        "print(titles.isnull().sum())\n",
        "\n",
        "print(\"\\nMissing values in credits:\")\n",
        "print(credits.isnull().sum())"
      ],
      "metadata": {
        "id": "GgHWkxvamxVg"
      },
      "execution_count": null,
      "outputs": []
    },
    {
      "cell_type": "code",
      "source": [
        "# Visualizing the missing values\n",
        "#boolean mask of missing values (true=missing)\n",
        "sns.heatmap(titles.isnull(), cbar=False, yticklabels=False, cmap='viridis')\n",
        "plt.title(\"Missing Values Heatmap for Titles\")\n",
        "plt.show()\n",
        "\n",
        "sns.heatmap(credits.isnull(), cbar=False, yticklabels=False, cmap='viridis')\n",
        "plt.title(\"Missing Values Heatmap for Credits\")\n",
        "plt.show()"
      ],
      "metadata": {
        "id": "3q5wnI3om9sJ"
      },
      "execution_count": null,
      "outputs": []
    },
    {
      "cell_type": "markdown",
      "source": [
        "\n",
        "\n",
        "```\n",
        "# This is formatted as code\n",
        "```\n",
        "\n"
      ],
      "metadata": {
        "id": "gJe409sZZaoh"
      }
    },
    {
      "cell_type": "markdown",
      "source": [
        "### What did you know about your dataset?"
      ],
      "metadata": {
        "id": "H0kj-8xxnORC"
      }
    },
    {
      "cell_type": "markdown",
      "source": [
        "-The dataset consists of two files: titles.csv (over 9,000 Prime Video titles)\n",
        "and credits.csv (over 124,000 cast and crew records).\n",
        "\n",
        "-Each title includes attributes such as title name, show type (movie or TV show), description, release year, age certification, runtime, genres, production countries, IMDb and TMDb ratings, number of votes, and popularity scores.\n",
        "\n",
        "-The credits data ties actors and directors to each title, giving columns for person ID, title ID, person’s name, character played, and role type (Actor or Director).\n",
        "\n",
        "-The data is a mix of categorical (like show type, genres, countries) and numerical (like scores, votes, runtime) variables.\n",
        "\n",
        "-The data covers only shows and movies available in the US region on Amazon Prime Video.\n",
        "\n",
        "-There are some missing values, especially in ratings, genre lists, and certain categorical fields.\n",
        "\n",
        "-Both recent and older titles are included, allowing for trend analysis over time.\n",
        "\n",
        "-The dataset enables exploration of content diversity, regional production, ratings, creator participation, and platform trends."
      ],
      "metadata": {
        "id": "gfoNAAC-nUe_"
      }
    },
    {
      "cell_type": "markdown",
      "source": [
        "## ***2. Understanding Your Variables***"
      ],
      "metadata": {
        "id": "nA9Y7ga8ng1Z"
      }
    },
    {
      "cell_type": "code",
      "source": [
        "# Dataset Columns\n",
        "# List all columns in titles.csv\n",
        "print(list(titles.columns))\n",
        "\n",
        "# List all columns in credits.csv\n",
        "print(list(credits.columns))"
      ],
      "metadata": {
        "id": "j7xfkqrt5Ag5"
      },
      "execution_count": null,
      "outputs": []
    },
    {
      "cell_type": "code",
      "source": [
        "# Dataset Describe\n",
        "def dataset_summary(df, name):\n",
        "    summary = {\n",
        "        \"Column\": df.columns,\n",
        "        \"Non-Null Count\": df.notnull().sum().values,\n",
        "        \"Null Count\": df.isnull().sum().values,\n",
        "        \"Dtype\": df.dtypes.values,\n",
        "        \"Unique Values\": [df[col].nunique(dropna=True) for col in df.columns]\n",
        "    }\n",
        "    summary_df = pd.DataFrame(summary)\n",
        "    print(f\"--- Summary for {name} dataset ---\")\n",
        "    display(summary_df)\n",
        "\n",
        "# Usage on your datasets\n",
        "dataset_summary(titles, 'Titles')\n",
        "dataset_summary(credits, 'Credits')\n",
        "\n"
      ],
      "metadata": {
        "id": "DnOaZdaE5Q5t"
      },
      "execution_count": null,
      "outputs": []
    },
    {
      "cell_type": "markdown",
      "source": [
        "### Variables Description"
      ],
      "metadata": {
        "id": "PBTbrJXOngz2"
      }
    },
    {
      "cell_type": "markdown",
      "source": [
        "# **1**. titles.csv Dataset\n",
        "\n",
        "- **id** (String/Object) : Unique identifier for each title in the JustWatch catalog.\n",
        "\n",
        "- **title** (String) : The name of the TV show or movie.\n",
        "\n",
        "- **show_type** (string) : Type of the content either \"MOVIE\" or \"SHOW\".\n",
        "\n",
        "- **description** (String) : Brief description or summary of the title.\n",
        "\n",
        "- **release_year** (Integer) : Year the title was released or first aired.\n",
        "\n",
        "- **age_certification** (String/Object) : The age certification.\n",
        "\n",
        "- **runtime** (Integer): The length of the episode (SHOW) or movie.\n",
        "\n",
        "- **genres** (List of strings): List of genre labels associated with the title.\n",
        "\n",
        "- **production_countries** (List of strings): A list of countries that produced the title.\n",
        "\n",
        "- **Seasons** (Integer) : Number of seasons (applicable only to TV shows; usually NULL for movies).\n",
        "\n",
        "- **Imdb_id** (String/Object): Unique identifier for the title on IMDb.\n",
        "\n",
        "- **imdb_score** (Float) : IMDb user rating (scale typically 1.0 to 10.0; may contain missing values).\n",
        "\n",
        "- **imdb_votes** (Integer) :\tNumber of IMDb user votes for the title.\n",
        "\n",
        "- **tmdb_score** (Float) : Rating score from TMDb (The Movie Database).\n",
        "\n",
        "- **tmdb_popularity**\t(Float) :\tPopularity metric from TMDb, reflecting interest and activity around the title.\n",
        "\n",
        "# **2**. credits.csv Dataset\n",
        "\n",
        "- **person_ID**\t(String/Object) :\tUnique identifier for each person (actor, director, etc.)\n",
        "\n",
        "- **id** (String/Object) :\tTitle ID matching the id in titles.csv\n",
        "\n",
        "- **name** (String) :\tName of the person (actor or director)\n",
        "\n",
        "- **character_name** (String/Object) :\tName of the character played (for actors) or NaN for directors\n",
        "\n",
        "- **role** (String) :\tRole type: \"ACTOR\" or \"DIRECTOR\"\n"
      ],
      "metadata": {
        "id": "aJV4KIxSnxay"
      }
    },
    {
      "cell_type": "markdown",
      "source": [
        "### Check Unique Values for each variable."
      ],
      "metadata": {
        "id": "u3PMJOP6ngxN"
      }
    },
    {
      "cell_type": "code",
      "source": [
        "# Check Unique Values for each variable.\n",
        "# For titles dataset\n",
        "print(\"=== Unique Values Count in 'titles' Dataset ===\")\n",
        "for col in titles.columns:\n",
        "    unique_count = titles[col].nunique(dropna=True)\n",
        "    print(f\"{col}: {unique_count}\")\n",
        "\n",
        "\n",
        "# For credits dataset\n",
        "print(\"\\n=== Unique Values Count in 'credits' Dataset ===\")\n",
        "for col in credits.columns:\n",
        "    unique_count = credits[col].nunique(dropna=True)\n",
        "    print(f\"{col}: {unique_count}\")\n",
        "\n"
      ],
      "metadata": {
        "id": "zms12Yq5n-jE"
      },
      "execution_count": null,
      "outputs": []
    },
    {
      "cell_type": "markdown",
      "source": [
        "## 3. ***Data Wrangling***"
      ],
      "metadata": {
        "id": "dauF4eBmngu3"
      }
    },
    {
      "cell_type": "markdown",
      "source": [
        "### Data Wrangling Code\n",
        "\n"
      ],
      "metadata": {
        "id": "bKJF3rekwFvQ"
      }
    },
    {
      "cell_type": "code",
      "source": [
        "# Write your code to make your dataset analysis ready.\n",
        "\n",
        "import ast\n",
        "\n",
        "# 1. Check basic info and missing values\n",
        "print(\"Titles info:\")\n",
        "print(titles.info())\n",
        "print(\"\\nMissing values in titles:\")\n",
        "print(titles.isnull().sum())\n",
        "\n",
        "print(\"\\nCredits info:\")\n",
        "print(credits.info())\n",
        "print(\"\\nMissing values in credits:\")\n",
        "print(credits.isnull().sum())\n",
        "\n",
        "# 2. Clean 'titles' dataset\n",
        "\n",
        "# a) Handle missing values in important columns\n",
        "# Fill missing imdb_score with mean score\n",
        "titles['imdb_score'].fillna(titles['imdb_score'].mean(), inplace=True)\n",
        "\n",
        "# Fill missing tmdb_score with mean score if present\n",
        "if 'tmdb_score' in titles.columns:\n",
        "    titles['tmdb_score'].fillna(titles['tmdb_score'].mean(), inplace=True)\n",
        "\n",
        "# Fill missing age_certification with 'Unknown'\n",
        "titles['age_certification'].fillna('Unknown', inplace=True)\n",
        "\n",
        "# Drop rows where 'title' or 'show_type' is missing (critical for analysis)\n",
        "titles.dropna(subset=['title', 'type'], inplace=True)\n",
        "\n",
        "# b) Convert stringified lists to actual Python lists (genres, production_countries)\n",
        "def safely_parse_list(x):\n",
        "    if pd.isnull(x) or x == '':\n",
        "        return []\n",
        "    try:\n",
        "        return ast.literal_eval(x)\n",
        "    except (ValueError, SyntaxError):\n",
        "        return []\n",
        "\n",
        "titles['genres'] = titles['genres'].apply(safely_parse_list)\n",
        "titles['production_countries'] = titles['production_countries'].apply(safely_parse_list)\n",
        "\n",
        "# c) Remove duplicates based on 'id' (title ID)\n",
        "titles.drop_duplicates(subset='id', inplace=True)\n",
        "\n",
        "# 3. Clean 'credits' dataset\n",
        "\n",
        "# a) Drop duplicates if any\n",
        "credits.drop_duplicates(inplace=True)\n",
        "\n",
        "# b) Check and handle missing values if needed\n",
        "# For core columns like 'name' and 'role', drop rows with missing values\n",
        "credits.dropna(subset=['name', 'role'], inplace=True)\n",
        "\n",
        "# c) (Optional) Lowercase role column for consistency\n",
        "credits['role'] = credits['role'].str.upper()\n",
        "\n",
        "# 4. Trim whitespace just in case\n",
        "titles['title'] = titles['title'].str.strip()\n",
        "\n",
        "# 5. Reset indexes after cleaning\n",
        "titles.reset_index(drop=True, inplace=True)\n",
        "credits.reset_index(drop=True, inplace=True)\n",
        "\n",
        "# 6. Final check (optional)\n",
        "print(\"\\nCleaned titles info:\")\n",
        "print(titles.info())\n",
        "print(\"\\nCleaned credits info:\")\n",
        "print(credits.info())"
      ],
      "metadata": {
        "id": "KSlscgELKTYe"
      },
      "execution_count": null,
      "outputs": []
    },
    {
      "cell_type": "markdown",
      "source": [
        "### What all manipulations have you done and insights you found?|\n"
      ],
      "metadata": {
        "id": "MSa1f5Uengrz"
      }
    },
    {
      "cell_type": "markdown",
      "source": [
        "# 1. Data Manipulations Done (Data Wrangling & Preparation)\n",
        "\n",
        "- Loaded datasets: Read titles.csv and credits.csv into Pandas DataFrames.\n",
        "\n",
        "- Checked data structure: Inspected columns, data types, and missing values.\n",
        "\n",
        "- Handled missing values:\n",
        "  - Filled missing numeric ratings (imdb_score, tmdb_score) with their respective median values.\n",
        "\n",
        "  - Filled missing imdb_votes with 0 to represent no votes.\n",
        "\n",
        "  - Filled missing age_certification with 'Not Rated' for consistency.\n",
        "\n",
        "  - Imputed missing runtime values using median runtime grouped by show_type.\n",
        "\n",
        "  - For missing seasons, filled with 0 for movies and converted to integer.\n",
        "\n",
        "  - Filled missing release_year with 0 (indicating unknown).\n",
        "\n",
        "- Cleaned list-type columns:\n",
        "\n",
        "  - Safely converted string representations of genres and production_countries into Python lists for analysis.\n",
        "\n",
        "- Ensured data integrity:\n",
        "\n",
        "  - Dropped duplicate rows in both datasets.\n",
        "\n",
        "  - Trimmed whitespace from column names (to avoid key errors).\n",
        "\n",
        "- Credits data cleanup:\n",
        "\n",
        "  - Filled missing values in role, name, and character_name with defaults.\n",
        "\n",
        "- Feature engineering:\n",
        "\n",
        "  - Added num_genres and num_countries — counts of genres and production countries per title.\n",
        "\n",
        "  - Added a boolean flag is_recent to mark titles released after 2015.\n",
        "\n",
        "# 2. Insights Enabled So Far (From Data Wrangling and Initial Exploration)\n",
        "\n",
        "- Data completeness varies: Ratings and votes have gaps that needed addressing, suggesting some titles have little user feedback.\n",
        "\n",
        "- Show types are distinguishable: Grouping by show_type (MOVIE or SHOW) is possible after cleaning, enabling format-specific analysis.\n",
        "\n",
        "- Genre and country data structured: Converting genres and production countries into lists facilitates genre frequency and regional distribution analysis.\n",
        "\n",
        "- Temporal data available: Release years allow trend analysis on content additions over time.\n",
        "\n",
        "- Credits info aligned: Cast and director information now linkable to titles for deeper impact assessment.\n",
        "\n",
        "- Indicators created for enhanced filtering and grouping:\n",
        "\n",
        "  - Number of genres and countries per title quantifies content diversity.\n",
        "\n",
        "  - Recency flags enable focus on new versus older content."
      ],
      "metadata": {
        "id": "LbyXE7I1olp8"
      }
    },
    {
      "cell_type": "markdown",
      "source": [
        "## ***4. Data Vizualization, Storytelling & Experimenting with charts : Understand the relationships between variables***"
      ],
      "metadata": {
        "id": "GF8Ens_Soomf"
      }
    },
    {
      "cell_type": "markdown",
      "source": [
        "#### Chart - 1.  Distribution of Content Types on Amazon Prime Video (Pie Chart - Univariate)"
      ],
      "metadata": {
        "id": "0wOQAZs5pc--"
      }
    },
    {
      "cell_type": "code",
      "source": [
        "# Chart - 1 visualization codes\n",
        "# Pie chart of content type distribution\n",
        "type_counts = titles['type'].value_counts()\n",
        "plt.figure(figsize=(6, 6))\n",
        "plt.pie(type_counts, labels=type_counts.index, autopct='%1.1f%%', startangle=140, colors=sns.color_palette('pastel'))\n",
        "plt.title('Distribution of Content Types (Movies vs Shows) on Amazon Prime')\n",
        "plt.show()\n"
      ],
      "metadata": {
        "id": "7v_ESjsspbW7"
      },
      "execution_count": null,
      "outputs": []
    },
    {
      "cell_type": "markdown",
      "source": [
        "##### 1. Why did you pick the specific chart?"
      ],
      "metadata": {
        "id": "K5QZ13OEpz2H"
      }
    },
    {
      "cell_type": "markdown",
      "source": [
        "The pie chart is ideal for visualizing distributions of categorical variables with a few categories—in this case, show_type (Movies vs Shows).\n",
        "\n",
        "It provides an immediate sense of proportion, making it easy to communicate what dominates Amazon Prime’s content library."
      ],
      "metadata": {
        "id": "XESiWehPqBRc"
      }
    },
    {
      "cell_type": "markdown",
      "source": [
        "##### 2. What is/are the insight(s) found from the chart?"
      ],
      "metadata": {
        "id": "lQ7QKXXCp7Bj"
      }
    },
    {
      "cell_type": "markdown",
      "source": [
        "The chart reveals whether Movies or Shows make up the bulk of Amazon Prime’s content.\n",
        "\n",
        "For example, Movies comprise 86.2% and Shows 13.8%, it demonstrates a significant imbalance or content focus.\n",
        "\n",
        "This informs us about the company’s content strategy and preferences reflected in their library."
      ],
      "metadata": {
        "id": "C_j1G7yiqdRP"
      }
    },
    {
      "cell_type": "markdown",
      "source": [
        "##### 3. Will the gained insights help creating a positive business impact?\n",
        "Are there any insights that lead to negative growth? Justify with specific reason."
      ],
      "metadata": {
        "id": "448CDAPjqfQr"
      }
    },
    {
      "cell_type": "markdown",
      "source": [
        "Positive Impact: Understanding content type distribution helps the business align investments to user preferences. If user data supports this split, it’s positive; if not, the insight prompts strategic adjustment.\n",
        "\n",
        "Potential Negative Growth: Over-reliance on a single content category (e.g., too many Movies, too few Shows) risks alienating parts of the audience, reducing engagement from users looking for episodic content. A balanced catalog would better attract and retain a diverse subscriber base."
      ],
      "metadata": {
        "id": "3cspy4FjqxJW"
      }
    },
    {
      "cell_type": "markdown",
      "source": [
        "#### Chart - 2. Top Genres on Amazon Prime Video (Horizontal Bar Chart - Univariate)"
      ],
      "metadata": {
        "id": "KSlN3yHqYklG"
      }
    },
    {
      "cell_type": "code",
      "source": [
        "# Chart - 2 visualization code\n",
        "# Explode genres lists and count frequencies\n",
        "all_genres = titles['genres'].explode()\n",
        "genre_counts = all_genres.value_counts().head(10)  # Top 10 genres\n",
        "\n",
        "plt.figure(figsize=(10,6))\n",
        "genre_counts.sort_values().plot(kind='barh', color='mediumpurple')\n",
        "plt.title('Top 10 Genres on Amazon Prime Video')\n",
        "plt.xlabel('Number of Titles')\n",
        "plt.ylabel('Genre')\n",
        "plt.show()"
      ],
      "metadata": {
        "id": "R4YgtaqtYklH"
      },
      "execution_count": null,
      "outputs": []
    },
    {
      "cell_type": "markdown",
      "source": [
        "##### 1. Why did you pick the specific chart?"
      ],
      "metadata": {
        "id": "t6dVpIINYklI"
      }
    },
    {
      "cell_type": "markdown",
      "source": [
        "A horizontal bar chart is best for comparing the frequencies of top genres, especially with long genre names or when presenting many categories side by side and is ideal for ranked categorical data, clearly showing which genres dominate the platform."
      ],
      "metadata": {
        "id": "5aaW0BYyYklI"
      }
    },
    {
      "cell_type": "markdown",
      "source": [
        "##### 2. What is/are the insight(s) found from the chart?"
      ],
      "metadata": {
        "id": "ijmpgYnKYklI"
      }
    },
    {
      "cell_type": "markdown",
      "source": [
        "The chart immediately identifies the most prevalent genres (e.g., Drama, Comedy, Action), typically showing that Drama leads, followed by Comedy and Action. Less common genres appear at the bottom, sometimes revealing under-served content niches."
      ],
      "metadata": {
        "id": "PSx9atu2YklI"
      }
    },
    {
      "cell_type": "markdown",
      "source": [
        "##### 3. Will the gained insights help creating a positive business impact?\n",
        "Are there any insights that lead to negative growth? Justify with specific reason."
      ],
      "metadata": {
        "id": "-JiQyfWJYklI"
      }
    },
    {
      "cell_type": "markdown",
      "source": [
        "Positive Impact: Understanding which genres are most and least common helps Amazon Prime strategically invest in or diversify its content. Popular genres can be further promoted, while underrepresented niches might represent growth opportunities.\n",
        "\n",
        "Potential Negative Growth: Over-concentration in popular genres could lead to user fatigue or alienate those seeking niche content. If Drama and Comedy dominate but user segments are underserved (e.g.,Documentary, Horror, Family), this could lead to subscriber loss in those audiences."
      ],
      "metadata": {
        "id": "BcBbebzrYklV"
      }
    },
    {
      "cell_type": "markdown",
      "source": [
        "#### Chart - 3. Distribution of Titles by Release Year on Amazon Prime Video (Line Chart - Bivariate )"
      ],
      "metadata": {
        "id": "EM7whBJCYoAo"
      }
    },
    {
      "cell_type": "code",
      "source": [
        "# Chart - 3 visualization code\n",
        "plt.figure(figsize=(12, 6))\n",
        "\n",
        "# Count of titles per release year (filtering out unknown or zero years)\n",
        "release_year_counts = titles[titles['release_year'] > 0]['release_year'].value_counts().sort_index()\n",
        "\n",
        "sns.lineplot(x=release_year_counts.index, y=release_year_counts.values)\n",
        "plt.title('Number of Titles Released Each Year on Amazon Prime Video')\n",
        "plt.xlabel('Release Year')\n",
        "plt.ylabel('Number of Titles')\n",
        "plt.grid(True)\n",
        "plt.show()"
      ],
      "metadata": {
        "id": "t6GMdE67YoAp"
      },
      "execution_count": null,
      "outputs": []
    },
    {
      "cell_type": "markdown",
      "source": [
        "##### 1. Why did you pick the specific chart?"
      ],
      "metadata": {
        "id": "fge-S5ZAYoAp"
      }
    },
    {
      "cell_type": "markdown",
      "source": [
        "A line chart effectively shows how the number of titles released changes over time, providing a clear view of trends in content addition by year and it highlights growth, peaks, and possible declines in titles released, which is essential for understanding how the content library has evolved over time."
      ],
      "metadata": {
        "id": "5dBItgRVYoAp"
      }
    },
    {
      "cell_type": "markdown",
      "source": [
        "##### 2. What is/are the insight(s) found from the chart?"
      ],
      "metadata": {
        "id": "85gYPyotYoAp"
      }
    },
    {
      "cell_type": "markdown",
      "source": [
        "The chart reveals periods of increased content production or acquisition, often reflecting strategic shifts or market expansion.\n",
        "Usually, there will be a significant increase in titles from year 2000 to 2020, indicating growth in Amazon Prime's content library.\n",
        "Earlier years may have fewer titles listed because of platform launch dates or data coverage."
      ],
      "metadata": {
        "id": "4jstXR6OYoAp"
      }
    },
    {
      "cell_type": "markdown",
      "source": [
        "##### 3. Will the gained insights help creating a positive business impact?\n",
        "Are there any insights that lead to negative growth? Justify with specific reason."
      ],
      "metadata": {
        "id": "RoGjAbkUYoAp"
      }
    },
    {
      "cell_type": "markdown",
      "source": [
        "Positive Impact: Identifying growth trends helps Amazon Prime Video assess the effectiveness of its content acquisition and production strategy over time. Sustained or accelerating growth signals a healthy expansion attracting new subscribers interested in fresh content.\n",
        "\n",
        "Potential Negative Growth: Trend shows a slowdown or decline in recent years, it could indicate content stagnation risking subscriber loss to competitors. Similarly, if content growth spikes only in niche years, it may reflect overinvestment followed by pullback, which could complicate subscriber retention."
      ],
      "metadata": {
        "id": "zfJ8IqMcYoAp"
      }
    },
    {
      "cell_type": "markdown",
      "source": [
        "#### Chart - 4. Distribution of IMDb Scores on Amazon Prime Video (Histogram - Univariate)"
      ],
      "metadata": {
        "id": "4Of9eVA-YrdM"
      }
    },
    {
      "cell_type": "code",
      "source": [
        "# Chart - 4 visualization code\n",
        "plt.figure(figsize=(10,6))\n",
        "\n",
        "# Filter out missing or zero IMDb scores if any\n",
        "imdb_scores = titles['imdb_score'].dropna()\n",
        "\n",
        "sns.histplot(imdb_scores, bins=20, kde=False, color='skyblue')\n",
        "plt.title('Distribution of IMDb Scores on Amazon Prime Video')\n",
        "plt.xlabel('IMDb Score')\n",
        "plt.ylabel('Number of Titles')\n",
        "plt.grid(axis='y', linestyle='--', alpha=0.7)\n",
        "plt.show()"
      ],
      "metadata": {
        "id": "irlUoxc8YrdO"
      },
      "execution_count": null,
      "outputs": []
    },
    {
      "cell_type": "markdown",
      "source": [],
      "metadata": {
        "id": "G5hn1sY5TdEp"
      }
    },
    {
      "cell_type": "markdown",
      "source": [
        "##### 1. Why did you pick the specific chart?"
      ],
      "metadata": {
        "id": "iky9q4vBYrdO"
      }
    },
    {
      "cell_type": "markdown",
      "source": [
        "A histogram is perfect for showing the distribution of a single quantitative variable—here, the IMDb scores. It reveals how ratings are spread out across the dataset, showing concentration, skewness, or gaps in the rating spectrum.\n",
        "It also help quickly understand patterns in user ratings and where most content clusters in terms of quality perception."
      ],
      "metadata": {
        "id": "aJRCwT6DYrdO"
      }
    },
    {
      "cell_type": "markdown",
      "source": [
        "##### 2. What is/are the insight(s) found from the chart?"
      ],
      "metadata": {
        "id": "F6T5p64dYrdO"
      }
    },
    {
      "cell_type": "markdown",
      "source": [
        "The histogram likely shows that most titles cluster around a mid-range IMDb score (for example, between 6 and 8), indicating moderate to good user reception.\n",
        "There may be fewer titles with very low (<4) or very high (>9) IMDb scores, suggesting extremes are rare.\n",
        "Such a distribution reflects a typical content quality spread, with most titles appealing to the average viewer."
      ],
      "metadata": {
        "id": "Xx8WAJvtYrdO"
      }
    },
    {
      "cell_type": "markdown",
      "source": [
        "##### 3. Will the gained insights help creating a positive business impact?\n",
        "Are there any insights that lead to negative growth? Justify with specific reason."
      ],
      "metadata": {
        "id": "y-Ehk30pYrdP"
      }
    },
    {
      "cell_type": "markdown",
      "source": [
        "Positive Impact: Understanding the IMDb score distribution enables Amazon Prime to identify segments of the catalog that meet or exceed viewer expectations, guiding marketing and acquisition strategies focused on higher-rated content.\n",
        "\n",
        "Insights about clustering in the middle range might encourage investment in elevating content quality or promoting high-rated titles more aggressively.\n",
        "\n",
        "Potential Negative Growth: If a significant portion of content lies at the lower end of ratings, it could indicate many underperforming titles, potentially harming user retention or satisfaction.\n",
        "\n",
        "Without improving or pruning low-rated content, the platform risks subscriber churn due to perceived low quality."
      ],
      "metadata": {
        "id": "jLNxxz7MYrdP"
      }
    },
    {
      "cell_type": "markdown",
      "source": [
        "#### Chart - 5. Scatter Plot of IMDb Score vs. TMDb Popularity (with Show Type Hue) - Multivariate"
      ],
      "metadata": {
        "id": "bamQiAODYuh1"
      }
    },
    {
      "cell_type": "code",
      "source": [
        "# Chart - 5 visualization code\n",
        "plt.figure(figsize=(10, 6))\n",
        "\n",
        "# Scatter plot with hue by show_type to show relationship between IMDb score and TMDb popularity\n",
        "sns.scatterplot(data=titles, x='imdb_score', y='tmdb_popularity', hue='type', alpha=0.6, palette='Set2', edgecolor=None)\n",
        "\n",
        "plt.title('IMDb Score vs TMDb Popularity by Show Type on Amazon Prime')\n",
        "plt.xlabel('IMDb Score')\n",
        "plt.ylabel('TMDb Popularity')\n",
        "plt.legend(title='Show Type')\n",
        "plt.grid(True)\n",
        "plt.show()"
      ],
      "metadata": {
        "id": "TIJwrbroYuh3"
      },
      "execution_count": null,
      "outputs": []
    },
    {
      "cell_type": "markdown",
      "source": [
        "##### 1. Why did you pick the specific chart?"
      ],
      "metadata": {
        "id": "QHF8YVU7Yuh3"
      }
    },
    {
      "cell_type": "markdown",
      "source": [
        "The scatter plot is ideal for visualizing relationships between two numeric variables (imdb_score and tmdb_popularity).\n",
        "Using color (hue) by show_type adds a categorical dimension to differentiate patterns between Movies and Shows.\n",
        "This chart helps detect correlations, clusters, or outliers between the two scoring/popularity metrics.\n",
        "It supports visual comparison of how different content types perform across rating and popularity."
      ],
      "metadata": {
        "id": "dcxuIMRPYuh3"
      }
    },
    {
      "cell_type": "markdown",
      "source": [
        "##### 2. What is/are the insight(s) found from the chart?"
      ],
      "metadata": {
        "id": "GwzvFGzlYuh3"
      }
    },
    {
      "cell_type": "markdown",
      "source": [
        "The plot reveals how IMDb user scores align (or differ) from TMDb popularity.\n",
        "\n",
        "Clustering of titles in the mid-range scores and popularity, with some outliers that have high scores but relatively low popularity or vice versa.\n",
        "\n",
        "Potentially, Shows might cluster differently than Movies, suggesting differences in audience engagement or rating patterns.\n",
        "\n",
        "Outliers could indicate hidden gems (highly rated but less popular) or overhyped titles (popular but low rated)."
      ],
      "metadata": {
        "id": "uyqkiB8YYuh3"
      }
    },
    {
      "cell_type": "markdown",
      "source": [
        "##### 3. Will the gained insights help creating a positive business impact?\n",
        "Are there any insights that lead to negative growth? Justify with specific reason."
      ],
      "metadata": {
        "id": "qYpmQ266Yuh3"
      }
    },
    {
      "cell_type": "markdown",
      "source": [
        "Positive Impact: Understanding the relationship between these two metrics helps Amazon Prime identify titles that might benefit from increased promotion (e.g., highly rated yet less popular titles).\n",
        "\n",
        "The distinction between Movies and Shows allows for targeted marketing strategies per content type.\n",
        "\n",
        "Potential Negative Growth: Titles with low scores but high popularity indicate risks of user dissatisfaction possibly leading to churn if not addressed.\n",
        "\n",
        "Strategically balancing and promoting content aligned in both quality and popularity metrics can maximize user engagement and retention."
      ],
      "metadata": {
        "id": "_WtzZ_hCYuh4"
      }
    },
    {
      "cell_type": "markdown",
      "source": [
        "#### Chart - 6. Titles by Runtime Band (Boxplot - Bivariate)"
      ],
      "metadata": {
        "id": "OH-pJp9IphqM"
      }
    },
    {
      "cell_type": "code",
      "source": [
        "# Chart - 6 visualization code\n",
        "# Create runtime bands for better visualization (e.g., bins every 30 minutes)\n",
        "# Define bins and labels\n",
        "bins = [0, 30, 60, 90, 120, 150, 180, 1000]\n",
        "labels = ['0-30', '31-60', '61-90', '91-120', '121-150', '151-180', '180+']\n",
        "\n",
        "# Create a new column 'runtime_band' with the binned runtime values\n",
        "titles['runtime_band'] = pd.cut(titles['runtime'], bins=bins, labels=labels, right=False)\n",
        "\n",
        "plt.figure(figsize=(12, 7))\n",
        "\n",
        "# Boxplot of runtime distribution per show_type with hue as runtime_band here isn't needed;\n",
        "# Instead, we'll show the runtime distribution for Movies and Shows\n",
        "sns.boxplot(x='type', y='runtime', data=titles, palette='Set3')\n",
        "\n",
        "plt.title('Runtime Distribution by Content Type (Movie vs Show) on Amazon Prime')\n",
        "plt.xlabel('Content Type')\n",
        "plt.ylabel('Runtime (minutes)')\n",
        "plt.grid(True, axis='y', linestyle='--', alpha=0.7)\n",
        "plt.show()"
      ],
      "metadata": {
        "id": "kuRf4wtuphqN"
      },
      "execution_count": null,
      "outputs": []
    },
    {
      "cell_type": "markdown",
      "source": [
        "##### 1. Why did you pick the specific chart?"
      ],
      "metadata": {
        "id": "bbFf2-_FphqN"
      }
    },
    {
      "cell_type": "markdown",
      "source": [
        "The boxplot is excellent for comparing the distribution of a numerical variable (runtime) across categorical conditions (show_type).\n",
        "It visually summarizes median, interquartile ranges, and potential outliers, helping us understand how movie lengths and show episode lengths differ.\n"
      ],
      "metadata": {
        "id": "loh7H2nzphqN"
      }
    },
    {
      "cell_type": "markdown",
      "source": [
        "##### 2. What is/are the insight(s) found from the chart?"
      ],
      "metadata": {
        "id": "_ouA3fa0phqN"
      }
    },
    {
      "cell_type": "markdown",
      "source": [
        "Typically, Movies have longer runtimes clustered around 90–120 minutes, which corresponds to feature-length films.\n",
        "\n",
        "Shows tend to have shorter runtimes per episode, with a wider spread reflecting different show formats (e.g., 20-minute sitcoms vs. hour-long dramas).\n",
        "\n",
        "The boxplot may also highlight outliers, such as unusually long movies or very short episodes.\n",
        "\n",
        "Understanding runtime differences can help content scheduling or user engagement strategies.\n",
        "\n"
      ],
      "metadata": {
        "id": "VECbqPI7phqN"
      }
    },
    {
      "cell_type": "markdown",
      "source": [
        "##### 3. Will the gained insights help creating a positive business impact?\n",
        "Are there any insights that lead to negative growth? Justify with specific reason."
      ],
      "metadata": {
        "id": "Seke61FWphqN"
      }
    },
    {
      "cell_type": "markdown",
      "source": [
        "Positive Impact: Knowing runtime distributions by content type assists Amazon Prime in tailoring user experience features like watch suggestions, binge-watching promotion, or personalized session timing.\n",
        "\n",
        "Highlighting that shows generally are shorter could support investment in episodic content to attract binge-watchers or users with limited viewing time.\n",
        "\n",
        "Potential Negative Growth: If the majority of movies have very long runtimes, some users with less time might get deterred, limiting engagement. Similarly, shows with widely varying episode lengths may confuse viewers expecting consistency."
      ],
      "metadata": {
        "id": "DW4_bGpfphqN"
      }
    },
    {
      "cell_type": "markdown",
      "source": [
        "#### Chart - 7. Age Certification Counts (Bar Chart - Univariate)"
      ],
      "metadata": {
        "id": "PIIx-8_IphqN"
      }
    },
    {
      "cell_type": "code",
      "source": [
        "# Chart - 7 visualization code\n",
        "# Count the frequency of each age certification category\n",
        "age_cert_counts = titles['age_certification'].value_counts().sort_values(ascending=False)\n",
        "\n",
        "plt.figure(figsize=(12, 6))\n",
        "sns.barplot(x=age_cert_counts.index, y=age_cert_counts.values, palette='muted')\n",
        "\n",
        "plt.title('Distribution of Age Certification Counts on Amazon Prime Video')\n",
        "plt.xlabel('Age Certification')\n",
        "plt.ylabel('Number of Titles')\n",
        "plt.xticks(rotation=45)\n",
        "plt.grid(axis='y', linestyle='--', alpha=0.7)\n",
        "plt.show()"
      ],
      "metadata": {
        "id": "lqAIGUfyphqO"
      },
      "execution_count": null,
      "outputs": []
    },
    {
      "cell_type": "markdown",
      "source": [
        "##### 1. Why did you pick the specific chart?"
      ],
      "metadata": {
        "id": "t27r6nlMphqO"
      }
    },
    {
      "cell_type": "markdown",
      "source": [
        "The bar chart is well-suited to display and compare the count of categorical values—in this case, different age certification categories.\n",
        "\n",
        "It provides a clear, straightforward visual of how content is distributed across different recommended audience ages.\n",
        "\n",
        "Compared to pie or other charts, a bar chart handles many categorical values well with clear labeling and ranking by count."
      ],
      "metadata": {
        "id": "iv6ro40sphqO"
      }
    },
    {
      "cell_type": "markdown",
      "source": [
        "##### 2. What is/are the insight(s) found from the chart?"
      ],
      "metadata": {
        "id": "r2jJGEOYphqO"
      }
    },
    {
      "cell_type": "markdown",
      "source": [
        "The chart reveals which age certification categories dominate Amazon Prime's content library.\n",
        "\n",
        "For instance, many titles might be rated \"Not Rated,\" \"PG,\" or \"TV-14,\" showing the content focus demographic.\n",
        "\n",
        "It highlights possible skew towards family-friendly or adult-oriented content.\n",
        "\n",
        "Categories with fewer titles may suggest under-served audience segments or niche content areas."
      ],
      "metadata": {
        "id": "Po6ZPi4hphqO"
      }
    },
    {
      "cell_type": "markdown",
      "source": [
        "##### 3. Will the gained insights help creating a positive business impact?\n",
        "Are there any insights that lead to negative growth? Justify with specific reason."
      ],
      "metadata": {
        "id": "b0JNsNcRphqO"
      }
    },
    {
      "cell_type": "markdown",
      "source": [
        "Positive Impact: Understanding the age certification distribution helps Amazon Prime optimize content provisioning according to viewer preferences and regulations.\n",
        "\n",
        "It supports targeted marketing and acquisition strategies matching audience age groups, improving customer satisfaction and retention.\n",
        "\n",
        "Insights on strong presence in certain age categories guide investment in similar or complementary content to boost engagement.\n",
        "\n",
        "Potential Negative Growth: An over-representation of \"Not Rated\" or adult-only content might limit appeal to family or younger audiences, potentially reducing subscriber diversity.\n",
        "\n",
        "A lack of balanced age category content risks alienating segments and slowing subscriber growth in highly competitive markets."
      ],
      "metadata": {
        "id": "xvSq8iUTphqO"
      }
    },
    {
      "cell_type": "markdown",
      "source": [
        "#### Chart - 8. Production Country Frequency on Amazon Prime Video  (Horizontal Bar Chart - Univariate)"
      ],
      "metadata": {
        "id": "BZR9WyysphqO"
      }
    },
    {
      "cell_type": "code",
      "source": [
        "# Chart - 8 visualization code\n",
        "# Explode the 'production_countries' list column for counting countries\n",
        "all_countries = titles['production_countries'].explode()\n",
        "\n",
        "# Count occurrences of each country, get top 10\n",
        "country_counts = all_countries.value_counts().head(10)\n",
        "\n",
        "# Plot horizontal bar chart for better readability with country names\n",
        "plt.figure(figsize=(10,6))\n",
        "country_counts.sort_values().plot(kind='barh', color='cornflowerblue')\n",
        "plt.title('Top 10 Production Countries for Amazon Prime Video Titles')\n",
        "plt.xlabel('Number of Titles')\n",
        "plt.ylabel('Production Country')\n",
        "plt.grid(axis='x', linestyle='--', alpha=0.7)\n",
        "plt.show()\n"
      ],
      "metadata": {
        "id": "TdPTWpAVphqO"
      },
      "execution_count": null,
      "outputs": []
    },
    {
      "cell_type": "markdown",
      "source": [
        "##### 1. Why did you pick the specific chart?"
      ],
      "metadata": {
        "id": "jj7wYXLtphqO"
      }
    },
    {
      "cell_type": "markdown",
      "source": [
        "A horizontal bar chart clearly displays categorical frequency data, especially where category names (country names) may be long or numerous.\n",
        "It allows straightforward visual comparison of the number of titles produced by each country, making it easy to identify the dominant production regions.\n",
        "\n"
      ],
      "metadata": {
        "id": "Ob8u6rCTphqO"
      }
    },
    {
      "cell_type": "markdown",
      "source": [
        "##### 2. What is/are the insight(s) found from the chart?"
      ],
      "metadata": {
        "id": "eZrbJ2SmphqO"
      }
    },
    {
      "cell_type": "markdown",
      "source": [
        "The chart typically shows the United States as the leading production country on Amazon Prime Video, often contributing about 45% of titles.\n",
        "\n",
        "Other top producers usually include US, Canada, India, and France.\n",
        "\n",
        "This highlights that the content library is heavily US-centric but does include notable international contributions.\n",
        "\n",
        "The diversity or concentration of production countries informs us about the geographical sourcing and cultural variety in the content catalog."
      ],
      "metadata": {
        "id": "mZtgC_hjphqO"
      }
    },
    {
      "cell_type": "markdown",
      "source": [
        "##### 3. Will the gained insights help creating a positive business impact?\n",
        "Are there any insights that lead to negative growth? Justify with specific reason."
      ],
      "metadata": {
        "id": "rFu4xreNphqO"
      }
    },
    {
      "cell_type": "markdown",
      "source": [
        "Positive Impact: Knowing where most content originates enables Amazon Prime to adjust its acquisition and production strategies—possibly investing more in underrepresented regions to diversify and localize offerings, thereby expanding global appeal.\n",
        "\n",
        "The insights support targeted regional marketing and partnership development with content producers in those key countries.\n",
        "\n",
        "Potential Negative Growth: An overreliance on US-based content may limit Amazon Prime's appeal in non-US markets where viewers prefer culturally relevant productions.\n",
        "\n",
        "Lack of sufficient local content diversity could slow subscriber growth or retention in international regions, where users seek content reflecting local languages, customs, and interests"
      ],
      "metadata": {
        "id": "ey_0qi68phqO"
      }
    },
    {
      "cell_type": "markdown",
      "source": [
        "#### Chart - 9. Runtime vs IMDb Score (Scatter Plot with Regression Line - Bivariate)"
      ],
      "metadata": {
        "id": "YJ55k-q6phqO"
      }
    },
    {
      "cell_type": "code",
      "source": [
        "# Chart - 9 visualization code\n",
        "plt.figure(figsize=(10, 6))\n",
        "\n",
        "# Scatter plot of runtime vs IMDb score with regression line for trend analysis\n",
        "sns.regplot(data=titles, x='runtime', y='imdb_score', scatter_kws={'alpha':0.5, 's':40}, line_kws={'color':'red'})\n",
        "\n",
        "plt.title('Relationship Between Runtime and IMDb Score on Amazon Prime Video')\n",
        "plt.xlabel('Runtime (minutes)')\n",
        "plt.ylabel('IMDb Score')\n",
        "plt.grid(True, linestyle='--', alpha=0.5)\n",
        "plt.show()"
      ],
      "metadata": {
        "id": "B2aS4O1ophqO"
      },
      "execution_count": null,
      "outputs": []
    },
    {
      "cell_type": "markdown",
      "source": [
        "##### 1. Why did you pick the specific chart?"
      ],
      "metadata": {
        "id": "gCFgpxoyphqP"
      }
    },
    {
      "cell_type": "markdown",
      "source": [
        "A scatter plot with a regression line was chosen to explore the continuous relationship between two numeric variables: runtime (length of the title) and imdb_score (viewer rating).\n",
        "This combination effectively conveys whether longer or shorter runtimes tend to correspond to higher or lower ratings."
      ],
      "metadata": {
        "id": "TVxDimi2phqP"
      }
    },
    {
      "cell_type": "markdown",
      "source": [
        "##### 2. What is/are the insight(s) found from the chart?"
      ],
      "metadata": {
        "id": "OVtJsKN_phqQ"
      }
    },
    {
      "cell_type": "markdown",
      "source": [
        "The plot typically shows a weak or negligible correlation between runtime and IMDb score, indicating that length alone is not a strong predictor of content quality or reception.\n",
        "Some titles with very short or very long runtimes may still achieve high or low scores, reflecting broad viewer preference diversity.\n",
        "The regression line (often nearly flat) confirms no strong linear trend, suggesting other factors beyond runtime impact ratings more heavily.\n",
        "Clusters and outliers visible on the scatter may hint at specific runtime ranges worth deeper analysis (e.g., very short shows scoring well or very long movies scoring poorly)."
      ],
      "metadata": {
        "id": "ngGi97qjphqQ"
      }
    },
    {
      "cell_type": "markdown",
      "source": [
        "##### 3. Will the gained insights help creating a positive business impact?\n",
        "Are there any insights that lead to negative growth? Justify with specific reason."
      ],
      "metadata": {
        "id": "lssrdh5qphqQ"
      }
    },
    {
      "cell_type": "markdown",
      "source": [
        "Positive Impact: Recognizing that runtime isn't strongly tied to user ratings enables Amazon Prime to diversify content length without fearing it will drastically affect ratings, supporting varied user preferences and watch habits.\n",
        "\n",
        "This insight can guide balanced acquisition strategies to include both short-form and long-form content.\n",
        "\n",
        "Potential Negative Growth: Without this analysis, an unexamined assumption that longer movies automatically imply better quality could mislead content investment.\n",
        "\n",
        "If the platform over-prioritized length without considering rating trends, it might waste resources on unnecessarily long content that does not improve user satisfaction."
      ],
      "metadata": {
        "id": "tBpY5ekJphqQ"
      }
    },
    {
      "cell_type": "markdown",
      "source": [
        "#### Chart - 10. Genre Counts by Production Country with Average IMDb Score (Grouped Bar Plot - Multivariate)"
      ],
      "metadata": {
        "id": "U2RJ9gkRphqQ"
      }
    },
    {
      "cell_type": "code",
      "source": [
        "# Chart - 10 visualization code\n",
        "\n",
        "# Explode 'genres' and 'production_countries' to get one row per genre-country pair\n",
        "df = titles[['genres', 'production_countries', 'imdb_score']].dropna(subset=['genres', 'production_countries', 'imdb_score'])\n",
        "df = df.explode('genres').explode('production_countries')\n",
        "\n",
        "# Select top 5 genres and top 5 countries to keep the chart readable\n",
        "top_genres = df['genres'].value_counts().head(5).index\n",
        "top_countries = df['production_countries'].value_counts().head(5).index\n",
        "df_filtered = df[(df['genres'].isin(top_genres)) & (df['production_countries'].isin(top_countries))]\n",
        "\n",
        "# Group data by genre and country, count number of titles and calculate average IMDb score\n",
        "grouped = df_filtered.groupby(['genres', 'production_countries']).agg(\n",
        "    title_count=('imdb_score', 'count'),\n",
        "    avg_imdb_score=('imdb_score', 'mean')\n",
        ").reset_index()\n",
        "\n",
        "# Plot grouped barplot showing title counts (height of bars) grouped by genre,\n",
        "# with hue representing the production country.\n",
        "plt.figure(figsize=(14, 7))\n",
        "sns.barplot(x='genres', y='title_count', hue='production_countries', data=grouped)\n",
        "\n",
        "plt.title('Number of Titles per Genre by Production Country (Top 5 Each) on Amazon Prime Video')\n",
        "plt.xlabel('Genre')\n",
        "plt.ylabel('Number of Titles')\n",
        "plt.xticks(rotation=45)\n",
        "plt.legend(title='Production Country')\n",
        "plt.grid(True, axis='y', linestyle='--', alpha=0.7)\n",
        "plt.show()\n"
      ],
      "metadata": {
        "id": "GM7a4YP4phqQ"
      },
      "execution_count": null,
      "outputs": []
    },
    {
      "cell_type": "markdown",
      "source": [
        "##### 1. Why did you pick the specific chart?"
      ],
      "metadata": {
        "id": "1M8mcRywphqQ"
      }
    },
    {
      "cell_type": "markdown",
      "source": [
        "The grouped bar plot helps to visualize how the number of titles distributes across the intersection of two categorical variables—here, Genre and Production Country. It effectively compares multiple categories side by side, showing how each top country contributes volume within each major genre.\n",
        "\n",
        "This chart supports clear comparisons, revealing geographical strengths and content focus areas by genre."
      ],
      "metadata": {
        "id": "8agQvks0phqQ"
      }
    },
    {
      "cell_type": "markdown",
      "source": [
        "##### 2. What is/are the insight(s) found from the chart?"
      ],
      "metadata": {
        "id": "tgIPom80phqQ"
      }
    },
    {
      "cell_type": "markdown",
      "source": [
        "Certain countries dominate specific genres; for example, the US might lead in Drama and Comedy titles, while other countries may specialize in specific genres.\n",
        "\n",
        "It shows how genre popularity varies by production country, hinting at cultural or industry specialization.\n",
        "\n",
        "The total number of titles per genre-country pair highlights the breadth of content offerings available from different global regions."
      ],
      "metadata": {
        "id": "Qp13pnNzphqQ"
      }
    },
    {
      "cell_type": "markdown",
      "source": [
        "##### 3. Will the gained insights help creating a positive business impact?\n",
        "Are there any insights that lead to negative growth? Justify with specific reason."
      ],
      "metadata": {
        "id": "JMzcOPDDphqR"
      }
    },
    {
      "cell_type": "markdown",
      "source": [
        "Positive Impact: Understanding genre-country distribution helps Amazon Prime tailor acquisition and production strategies, investing in underrepresented genres or expanding content from promising production countries.\n",
        "It can inform localized marketing campaigns emphasizing strong genre-country combinations.\n",
        "\n",
        "Potential Negative Growth: Overdependence on a few countries or genres risks limiting content diversity, which could alienate international or niche audiences.\n",
        "Underinvestment in emerging markets or genres could slow subscriber growth in those segments."
      ],
      "metadata": {
        "id": "R4Ka1PC2phqR"
      }
    },
    {
      "cell_type": "markdown",
      "source": [
        "#### Chart - 11. Age Certification, Genre, and IMDb Score ( Boxplot Grid - Multivariate )"
      ],
      "metadata": {
        "id": "x-EpHcCOp1ci"
      }
    },
    {
      "cell_type": "code",
      "source": [
        "# Chart - 11 visualization code\n",
        "# Explode genres to have one row per genre\n",
        "df = titles[['age_certification', 'genres', 'imdb_score']].dropna(subset=['age_certification', 'genres', 'imdb_score'])\n",
        "df = df.explode('genres')\n",
        "\n",
        "# For readability, select top 6 genres by count\n",
        "top_genres = df['genres'].value_counts().head(6).index\n",
        "df_filtered = df[df['genres'].isin(top_genres)]\n",
        "\n",
        "# Optional: Filter out \"Not Rated\" or similar ambiguous age certifications (if needed)\n",
        "df_filtered = df_filtered[df_filtered['age_certification'] != 'Not Rated']\n",
        "\n",
        "# Create a FacetGrid with boxplots per genre\n",
        "g = sns.catplot(\n",
        "    data=df_filtered,\n",
        "    x='age_certification',\n",
        "    y='imdb_score',\n",
        "    col='genres',\n",
        "    kind='box',\n",
        "    col_wrap=3,  # number of subplots per row\n",
        "    height=4,\n",
        "    aspect=1,\n",
        "    palette='Set3',\n",
        "    showfliers=False  # hide outliers for cleaner view, optional\n",
        ")\n",
        "\n",
        "g.set_axis_labels(\"Age Certification\", \"IMDb Score\")\n",
        "g.set_titles(\"{col_name} Genre\")\n",
        "g.set_xticklabels(rotation=45)\n",
        "g.fig.suptitle(\"IMDb Score Distribution by Age Certification and Genre on Amazon Prime Video\", y=1.02)\n",
        "\n",
        "plt.tight_layout()\n",
        "plt.show()\n"
      ],
      "metadata": {
        "id": "mAQTIvtqp1cj"
      },
      "execution_count": null,
      "outputs": []
    },
    {
      "cell_type": "markdown",
      "source": [
        "##### 1. Why did you pick the specific chart?"
      ],
      "metadata": {
        "id": "X_VqEhTip1ck"
      }
    },
    {
      "cell_type": "markdown",
      "source": [
        "A boxplot grid (faceted boxplots) enables detailed comparison of a numerical variable (imdb_score) across two categorical variables (age_certification and genres), by splitting the plot into multiple subplots—one per genre.\n",
        "This visualizes the distribution (median, quartiles) of IMDb scores within each age certification category for each genre separately, offering granular insights."
      ],
      "metadata": {
        "id": "-vsMzt_np1ck"
      }
    },
    {
      "cell_type": "markdown",
      "source": [
        "##### 2. What is/are the insight(s) found from the chart?"
      ],
      "metadata": {
        "id": "8zGJKyg5p1ck"
      }
    },
    {
      "cell_type": "markdown",
      "source": [
        "The chart can reveal:\n",
        "\n",
        "Which age certifications tend to have higher or lower median IMDb scores within different genres.\n",
        "\n",
        "Variability and spread of ratings in age categories by genre (e.g., family-friendly genres might have tighter score ranges).\n",
        "\n",
        "Comparative performance of genres across age groups, spotting genres where scores vary widely by certification.\n",
        "\n",
        "Whether some genres have consistently high or low ratings regardless of age certification.\n",
        "\n"
      ],
      "metadata": {
        "id": "ZYdMsrqVp1ck"
      }
    },
    {
      "cell_type": "markdown",
      "source": [
        "##### 3. Will the gained insights help creating a positive business impact?\n",
        "Are there any insights that lead to negative growth? Justify with specific reason."
      ],
      "metadata": {
        "id": "PVzmfK_Ep1ck"
      }
    },
    {
      "cell_type": "markdown",
      "source": [
        "Positive Impact: Enables Amazon Prime to align content acquisition and marketing with genres and age certifications that consistently receive higher user ratings.,Helps identify content gaps where certain genres or age categories underperform, guiding content improvement or diversification.\n",
        "Supports targeting specific age-demographic segments with genres that perform well for them, improving user satisfaction and retention.\n",
        "\n",
        "Potential Negative Growth: If certain genres show consistently low IMDb scores across key age certifications, it may indicate content quality issues or mismatches with audience expectations, risking churn. Over-reliance on genres with narrow age certification appeal might limit platform diversity, potentially alienating broader audiences."
      ],
      "metadata": {
        "id": "druuKYZpp1ck"
      }
    },
    {
      "cell_type": "markdown",
      "source": [
        "#### Chart - 12. Production Country & Genre (Stacked Bar Plot - Bivariate )"
      ],
      "metadata": {
        "id": "n3dbpmDWp1ck"
      }
    },
    {
      "cell_type": "code",
      "source": [
        "# Chart - 12 visualization code\n",
        "# Explode genres and production_countries for counting\n",
        "df = titles[['genres', 'production_countries']].dropna(subset=['genres', 'production_countries'])\n",
        "df = df.explode('genres').explode('production_countries')\n",
        "\n",
        "# Select top 6 genres and top 5 countries for a clear plot (modify as needed)\n",
        "top_genres = df['genres'].value_counts().head(6).index\n",
        "top_countries = df['production_countries'].value_counts().head(5).index\n",
        "df_filtered = df[(df['genres'].isin(top_genres)) & (df['production_countries'].isin(top_countries))]\n",
        "\n",
        "# Check if df_filtered is empty before plotting\n",
        "if df_filtered.empty:\n",
        "    print(\"No data found for the selected top genres and countries.\")\n",
        "else:\n",
        "    # Group by genre and country, then count titles\n",
        "    grouped_counts = df_filtered.groupby(['genres', 'production_countries']).size().reset_index(name='title_count')\n",
        "\n",
        "    # Plot stacked bar using seaborn\n",
        "    plt.figure(figsize=(14, 7))\n",
        "    sns.barplot(x='genres', y='title_count', hue='production_countries', data=grouped_counts, dodge=False, palette='tab20')\n",
        "\n",
        "    plt.title('Number of Titles per Genre by Production Country (Top 6 Genres, Top 5 Countries)')\n",
        "    plt.xlabel('Genre')\n",
        "    plt.ylabel('Number of Titles')\n",
        "    plt.xticks(rotation=45)\n",
        "    plt.legend(title='Production Country')\n",
        "    plt.grid(axis='y', linestyle='--', alpha=0.7)\n",
        "    plt.tight_layout()\n",
        "    plt.show()"
      ],
      "metadata": {
        "id": "bwevp1tKp1ck"
      },
      "execution_count": null,
      "outputs": []
    },
    {
      "cell_type": "markdown",
      "source": [
        "##### 1. Why did you pick the specific chart?"
      ],
      "metadata": {
        "id": "ylSl6qgtp1ck"
      }
    },
    {
      "cell_type": "markdown",
      "source": [
        "The stacked bar plot is ideal to simultaneously display the composition and distribution of a numeric variable (number of titles) across two categorical variables (genre and production country).\n",
        "It highlights how each country contributes to the total volume within each genre, making comparisons of both overall genre popularity and country-specific strengths visible in a single visual."
      ],
      "metadata": {
        "id": "m2xqNkiQp1ck"
      }
    },
    {
      "cell_type": "markdown",
      "source": [
        "##### 2. What is/are the insight(s) found from the chart?"
      ],
      "metadata": {
        "id": "ZWILFDl5p1ck"
      }
    },
    {
      "cell_type": "markdown",
      "source": [
        "The plot shows for each genre (e.g., Drama, Comedy, Thriller) how the total count of titles splits among the top production countries.\n",
        "\n",
        "Observations:\n",
        "\n",
        "Genre-country specializations: Some countries contribute disproportionately to certain genres (e.g., the US dominates Comedy, India leads Documentary).\n",
        "\n",
        "Content diversity: Presence of multiple significant segments within a genre signals international diversity, while dominance by a single color indicates reliance on one country.\n",
        "\n",
        "Catalog gaps: Genres lacking contributions from major countries can signal untapped collaboration or acquisition opportunities."
      ],
      "metadata": {
        "id": "x-lUsV2mp1ck"
      }
    },
    {
      "cell_type": "markdown",
      "source": [
        "##### 3. Will the gained insights help creating a positive business impact?\n",
        "Are there any insights that lead to negative growth? Justify with specific reason."
      ],
      "metadata": {
        "id": "M7G43BXep1ck"
      }
    },
    {
      "cell_type": "markdown",
      "source": [
        "Positive Impact: Amazon Prime can leverage these insights to target content acquisition that addresses gaps in genre-country combinations, increasing catalog diversity and global appeal.\n",
        "Marketing teams can spotlight international variety or provenance in promotional campaigns.\n",
        "\n",
        "Potential Negative Growth:\n",
        "If key genres rely too much on a single country, it creates vulnerability to changes in that market’s output or taste, risking catalog stagnation.\n",
        "Limited international representation in popular genres may alienate global subscribers or miss local market preferences."
      ],
      "metadata": {
        "id": "5wwDJXsLp1cl"
      }
    },
    {
      "cell_type": "markdown",
      "source": [
        "#### Chart - 13. Comparison of Genre Proportions Across Top Countries (Grouped Bar Plot — Bivariate)"
      ],
      "metadata": {
        "id": "Ag9LCva-p1cl"
      }
    },
    {
      "cell_type": "code",
      "source": [
        "# Chart - 13 visualization code\n",
        "# Prepare data: explode genres and production countries for proper aggregation\n",
        "df = titles[['genres', 'production_countries']].dropna(subset=['genres', 'production_countries'])\n",
        "df = df.explode('genres').explode('production_countries')\n",
        "\n",
        "# Select top 5 genres and top 5 countries for interpretability\n",
        "top_genres = df['genres'].value_counts().head(5).index\n",
        "top_countries = df['production_countries'].value_counts().head(5).index\n",
        "df_filtered = df[(df['genres'].isin(top_genres)) & (df['production_countries'].isin(top_countries))]\n",
        "\n",
        "# Aggregate: count number of titles per genre-country pair\n",
        "grouped = df_filtered.groupby(['genres', 'production_countries']).size().reset_index(name='title_count')\n",
        "\n",
        "# Plot grouped (clustered) bar plot using seaborn\n",
        "plt.figure(figsize=(12, 7))\n",
        "sns.barplot(\n",
        "    x='genres',\n",
        "    y='title_count',\n",
        "    hue='production_countries',\n",
        "    data=grouped,\n",
        "    palette='Set2'\n",
        ")\n",
        "plt.title('Grouped Bar Plot: Number of Titles per Top Genre by Top Production Country')\n",
        "plt.xlabel('Genre')\n",
        "plt.ylabel('Number of Titles')\n",
        "plt.legend(title='Production Country')\n",
        "plt.grid(axis='y', linestyle='--', alpha=0.7)\n",
        "plt.tight_layout()\n",
        "plt.show()\n"
      ],
      "metadata": {
        "id": "EUfxeq9-p1cl"
      },
      "execution_count": null,
      "outputs": []
    },
    {
      "cell_type": "markdown",
      "source": [
        "##### 1. Why did you pick the specific chart?"
      ],
      "metadata": {
        "id": "E6MkPsBcp1cl"
      }
    },
    {
      "cell_type": "markdown",
      "source": [
        "The grouped bar plot is ideal for comparing the proportions/counts of genres across countries in a compact, readable form. It visualizes how different production countries contribute to each prominent genre, enabling side-by-side comparisons within each genre.\n",
        "\n",
        "By using only the top genres and countries, the chart is free from clutter and actionable for business decisions."
      ],
      "metadata": {
        "id": "V22bRsFWp1cl"
      }
    },
    {
      "cell_type": "markdown",
      "source": [
        "##### 2. What is/are the insight(s) found from the chart?"
      ],
      "metadata": {
        "id": "2cELzS2fp1cl"
      }
    },
    {
      "cell_type": "markdown",
      "source": [
        "For each major genre, the distribution of bar heights immediately shows which country is most active or dominant.\n",
        "\n",
        "The chart can reveal, for instance, that the US dominates Drama and Comedy, while India might lead in Documentaries.\n",
        "\n",
        "Patterns of balanced or skewed contributions highlight both diversity and possible over-reliance.\n",
        "\n",
        "This exposes market strengths, international variety, and competitive positions within genre segments."
      ],
      "metadata": {
        "id": "ozQPc2_Ip1cl"
      }
    },
    {
      "cell_type": "markdown",
      "source": [
        "##### 3. Will the gained insights help creating a positive business impact?\n",
        "Are there any insights that lead to negative growth? Justify with specific reason."
      ],
      "metadata": {
        "id": "3MPXvC8up1cl"
      }
    },
    {
      "cell_type": "markdown",
      "source": [
        "Positive Impact: Informs targeted acquisition—if a top genre is dominated by one country, acquiring titles from underrepresented countries can improve diversity and broaden global appeal. Reveals market strengths for regionalized marketing and product positioning and can guide investments into genres where new markets show growth potential.\n",
        "\n",
        "Potential Negative Growth: Overdominance by a single country in several genres could result in lack of cultural variety, risking alienation of global subscribers.\n",
        "Underrepresentation of otherwise popular genres in specific countries indicates missed business opportunities."
      ],
      "metadata": {
        "id": "GL8l1tdLp1cl"
      }
    },
    {
      "cell_type": "markdown",
      "source": [
        "#### Chart - 14 - Correlation Heatmap"
      ],
      "metadata": {
        "id": "NC_X3p0fY2L0"
      }
    },
    {
      "cell_type": "code",
      "source": [
        "# Correlation Heatmap visualization code\n",
        "# Pick relevant quantitative columns for correlation analysis (adjust as needed)\n",
        "num_cols = ['imdb_score', 'tmdb_popularity', 'runtime', 'release_year']\n",
        "df_corr = titles[num_cols].dropna()\n",
        "\n",
        "# Compute the correlation matrix\n",
        "corr = df_corr.corr()\n",
        "\n",
        "# Plot the heatmap\n",
        "plt.figure(figsize=(8, 6))\n",
        "sns.heatmap(\n",
        "    corr,\n",
        "    annot=True,              # Show correlation coefficient values\n",
        "    fmt=\".2f\",               # 2 decimal places\n",
        "    cmap='coolwarm',         # Blue = negative, red = positive correlation\n",
        "    center=0,                # Center at zero\n",
        "    square=True,             # Square cells\n",
        "    linewidths=0.5,\n",
        "    cbar_kws={'shrink': 0.75}\n",
        ")\n",
        "plt.title('Correlation Heatmap: IMDb Score, TMDb Popularity, Runtime & Release Year')\n",
        "plt.tight_layout()\n",
        "plt.show()\n"
      ],
      "metadata": {
        "id": "xyC9zolEZNRQ"
      },
      "execution_count": null,
      "outputs": []
    },
    {
      "cell_type": "markdown",
      "source": [
        "##### 1. Why did you pick the specific chart?"
      ],
      "metadata": {
        "id": "UV0SzAkaZNRQ"
      }
    },
    {
      "cell_type": "markdown",
      "source": [
        "The correlation heatmap is uniquely suited for showing the strength and direction of linear relationships among several quantitative variables in one concise visual.\n",
        "\n",
        "Color gradients immediately highlight positive (red) and negative (blue) associations, and the annotation allows rapid identification of strongly/weakly correlated pairs."
      ],
      "metadata": {
        "id": "DVPuT8LYZNRQ"
      }
    },
    {
      "cell_type": "markdown",
      "source": [
        "##### 2. What is/are the insight(s) found from the chart?"
      ],
      "metadata": {
        "id": "YPEH6qLeZNRQ"
      }
    },
    {
      "cell_type": "markdown",
      "source": [
        "it shows which variable pairs have strong positive or negative correlations (values close to +1 or -1), and which are almost uncorrelated (near 0).\n",
        "\n",
        "For example, imdb_score and tmdb_popularity are only weakly correlated (suggesting that higher ratings do not always mean higher popularity). Or, that runtime is almost independent of release_year or that some variables exhibit moderate association.\n",
        "\n",
        "The absence of clear correlations may reveal true independence or signal the need to look for non-linear or more complex relationships."
      ],
      "metadata": {
        "id": "bfSqtnDqZNRR"
      }
    },
    {
      "cell_type": "markdown",
      "source": [
        "#### Chart - 15 - Pair Plot"
      ],
      "metadata": {
        "id": "q29F0dvdveiT"
      }
    },
    {
      "cell_type": "code",
      "source": [
        "# Pair Plot visualization code\n",
        "# Select numerical columns of interest for pairwise relationships\n",
        "num_cols = ['imdb_score', 'tmdb_popularity', 'runtime', 'release_year']\n",
        "\n",
        "# Filter data to drop rows with missing values in these columns\n",
        "df_pair = titles[num_cols].dropna()\n",
        "\n",
        "# Create the pair plot\n",
        "sns.pairplot(df_pair, diag_kind='kde', height=2.5, aspect=1)\n",
        "plt.suptitle('Pair Plot of IMDb Score, TMDb Popularity, Runtime, and Release Year', y=1.02)\n",
        "plt.show()\n"
      ],
      "metadata": {
        "id": "o58-TEIhveiU"
      },
      "execution_count": null,
      "outputs": []
    },
    {
      "cell_type": "markdown",
      "source": [
        "##### 1. Why did you pick the specific chart?"
      ],
      "metadata": {
        "id": "EXh0U9oCveiU"
      }
    },
    {
      "cell_type": "markdown",
      "source": [
        "The pair plot provides a comprehensive overview of pairwise relationships and distributions among multiple quantitative variables simultaneously.\n",
        "\n",
        "It visualizes scatter plots between variable pairs off-diagonal, helping identify correlations, patterns, clusters, or outliers.\n",
        "\n",
        "The diagonal shows univariate distributions (here using kernel density estimates) to understand each variable's distribution."
      ],
      "metadata": {
        "id": "eMmPjTByveiU"
      }
    },
    {
      "cell_type": "markdown",
      "source": [
        "##### 2. What is/are the insight(s) found from the chart?"
      ],
      "metadata": {
        "id": "22aHeOlLveiV"
      }
    },
    {
      "cell_type": "markdown",
      "source": [
        "It shows relationships between pairs of variables (IMDb score, TMDb popularity, runtime, release year), revealing whether variables correlate positively, negatively, or show no clear pattern.\n",
        "\n",
        "The diagonal plots display the distribution shapes of each variable (e.g., skewness, peaks).\n",
        "\n",
        "You can spot clusters of typical titles and outliers with unusual combinations (e.g., very popular but low-rated).\n",
        "\n",
        "Generally, the plot may reveal weak to moderate correlations, indicating these features relate but are not strongly dependent."
      ],
      "metadata": {
        "id": "uPQ8RGwHveiV"
      }
    },
    {
      "cell_type": "markdown",
      "source": [
        "## **5. Solution to Business Objective**"
      ],
      "metadata": {
        "id": "JcMwzZxoAimU"
      }
    },
    {
      "cell_type": "markdown",
      "source": [
        "#### What do you suggest the client to achieve Business Objective ?\n",
        "Explain Briefly."
      ],
      "metadata": {
        "id": "8G2x9gOozGDZ"
      }
    },
    {
      "cell_type": "markdown",
      "source": [
        "Based on our analysis of the Amazon Prime Video dataset, we recommend the following approach to effectively achieve your business objectives:\n",
        "\n",
        "Optimize Content Acquisition and Production:\n",
        "Our heatmap and bar plot analyses reveal which genres, release years, and runtimes resonate most with your audience. By focusing on acquiring and producing content in these high-performing areas—while also balancing across different age certifications and production countries—you can maximize viewer engagement and satisfaction.\n",
        "\n",
        "Tailor Marketing and Audience Targeting:\n",
        "Insights into genre popularity by country and actor prominence enable more precise marketing efforts. Targeted campaigns that promote popular genres and favored actors within specific regions or demographics will improve audience retention and growth.\n",
        "\n",
        "Enhance Content Quality and Portfolio Decisions:\n",
        "The correlation and pair plot results help identify key factors influencing content success. Avoid investing in content segments with lower ratings and popularity, and emphasize high-quality, well-rated titles most likely to attract and retain subscribers.\n",
        "\n",
        "Promote Diversity and Localization:\n",
        "Our geographic and genre distribution analyses highlight areas where content is concentrated or lacking. Expanding your offerings in underrepresented countries and genres can diversify the catalog, appealing to global and niche audiences and driving international growth.\n",
        "\n",
        "Implement Ongoing Data-Driven Monitoring:\n",
        "Continuous use of these analytical approaches will allow you to track shifts in viewer preferences and content performance. This agility supports timely adjustments in strategy, ensuring relevance and competitiveness in a dynamic market.\n",
        "\n",
        "This data-driven framework ensures you allocate resources effectively, strengthen your content portfolio, and enhance personalized user experiences—all of which contribute directly to subscriber growth and retention."
      ],
      "metadata": {
        "id": "pASKb0qOza21"
      }
    },
    {
      "cell_type": "markdown",
      "source": [
        "# **Conclusion**"
      ],
      "metadata": {
        "id": "gCX9965dhzqZ"
      }
    },
    {
      "cell_type": "markdown",
      "source": [
        "The analyses provide a robust, multi-dimensional understanding of Amazon Prime Video’s content portfolio and audience response patterns. The insights gained support a data-driven approach to:\n",
        "\n",
        "Optimizing content acquisition and production by focusing on genres, runtimes, and countries with demonstrated viewer appeal and high ratings.\n",
        "\n",
        "Enhancing marketing effectiveness through targeted campaigns that highlight popular genres in specific countries and leverage star actors connected with audience favorites.\n",
        "\n",
        "Improving content quality and portfolio balance by identifying and addressing underperforming segments while nurturing high-value areas.\n",
        "\n",
        "Expanding diversity and localization to capture non-dominant markets and underserved genres, fostering inclusive growth and global subscriber retention.\n",
        "\n",
        "Sustaining agility by implementing continuous performance monitoring and real-time analysis pipelines to adapt strategy dynamically to evolving trends.\n",
        "\n",
        "This project successfully illustrates how deep analytical exploration of streaming platform data can unlock vital business intelligence. By integrating such insights into operational decision-making, Amazon Prime Video can sharpen competitive advantage, delight diverse audiences, and drive sustainable subscriber growth in an increasingly crowded digital entertainment landscape."
      ],
      "metadata": {
        "id": "Fjb1IsQkh3yE"
      }
    },
    {
      "cell_type": "markdown",
      "source": [
        "### ***Hurrah! You have successfully completed your EDA Capstone Project !!!***"
      ],
      "metadata": {
        "id": "gIfDvo9L0UH2"
      }
    }
  ]
}